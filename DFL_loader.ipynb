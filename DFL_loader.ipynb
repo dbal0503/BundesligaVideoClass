{
 "cells": [
  {
   "cell_type": "code",
   "execution_count": 1,
   "id": "cf69a543",
   "metadata": {},
   "outputs": [],
   "source": [
    "import numpy as np\n",
    "import pandas as pd\n",
    "import pyarrow as pa\n",
    "from os import listdir\n",
    "from datasets import Dataset, load_from_disk\n",
    "from decord import VideoReader, cpu\n",
    "from transformers import VideoMAEFeatureExtractor, VideoMAEModel"
   ]
  },
  {
   "cell_type": "code",
   "execution_count": 2,
   "id": "91523fe9",
   "metadata": {
    "scrolled": false
   },
   "outputs": [],
   "source": [
    "clip_list = listdir(\"D:\\BundesligaKaggle\\DflBundesligaDataShootout\\clips\")"
   ]
  },
  {
   "cell_type": "code",
   "execution_count": 3,
   "id": "f2d3bfa0",
   "metadata": {},
   "outputs": [
    {
     "data": {
      "text/plain": [
       "200"
      ]
     },
     "execution_count": 3,
     "metadata": {},
     "output_type": "execute_result"
    }
   ],
   "source": [
    "len(clip_list)"
   ]
  },
  {
   "cell_type": "code",
   "execution_count": 4,
   "id": "11f08d83",
   "metadata": {},
   "outputs": [],
   "source": [
    "def sample_frame_indices(clip_len, start_idx, frame_sample_rate, seg_len):\n",
    "    converted_len = int(clip_len * frame_sample_rate)\n",
    "    end_idx = start_idx + converted_len\n",
    "    indices = np.linspace(start_idx, (end_idx-frame_sample_rate), num=clip_len).astype(np.int64)\n",
    "    return indices\n",
    "\n",
    "feature_extractor = VideoMAEFeatureExtractor.from_pretrained(\"MCG-NJU/videomae-base-finetuned-kinetics\")"
   ]
  },
  {
   "cell_type": "code",
   "execution_count": 5,
   "id": "f6edf9e0",
   "metadata": {},
   "outputs": [],
   "source": [
    "df = pd.DataFrame(columns = ['vid_init_frame', 'clips'])"
   ]
  },
  {
   "cell_type": "code",
   "execution_count": 12,
   "id": "c0335132",
   "metadata": {
    "scrolled": false
   },
   "outputs": [
    {
     "name": "stdout",
     "output_type": "stream",
     "text": [
      "[ 0  2  4  6  8 10 12 14 16 18 20 22 24 26 28 30]\n"
     ]
    },
    {
     "ename": "AttributeError",
     "evalue": "",
     "output_type": "error",
     "traceback": [
      "\u001b[1;31m---------------------------------------------------------------------------\u001b[0m",
      "\u001b[1;31mKeyError\u001b[0m                                  Traceback (most recent call last)",
      "File \u001b[1;32m~\\anaconda3\\lib\\site-packages\\transformers\\feature_extraction_utils.py:87\u001b[0m, in \u001b[0;36mBatchFeature.__getattr__\u001b[1;34m(self, item)\u001b[0m\n\u001b[0;32m     86\u001b[0m \u001b[38;5;28;01mtry\u001b[39;00m:\n\u001b[1;32m---> 87\u001b[0m     \u001b[38;5;28;01mreturn\u001b[39;00m \u001b[38;5;28;43mself\u001b[39;49m\u001b[38;5;241;43m.\u001b[39;49m\u001b[43mdata\u001b[49m\u001b[43m[\u001b[49m\u001b[43mitem\u001b[49m\u001b[43m]\u001b[49m\n\u001b[0;32m     88\u001b[0m \u001b[38;5;28;01mexcept\u001b[39;00m \u001b[38;5;167;01mKeyError\u001b[39;00m:\n",
      "\u001b[1;31mKeyError\u001b[0m: 'flatten'",
      "\nDuring handling of the above exception, another exception occurred:\n",
      "\u001b[1;31mAttributeError\u001b[0m                            Traceback (most recent call last)",
      "Input \u001b[1;32mIn [12]\u001b[0m, in \u001b[0;36m<cell line: 4>\u001b[1;34m()\u001b[0m\n\u001b[0;32m     15\u001b[0m batch \u001b[38;5;241m=\u001b[39m vr\u001b[38;5;241m.\u001b[39mget_batch(indix)\u001b[38;5;241m.\u001b[39masnumpy()\n\u001b[0;32m     16\u001b[0m inputs \u001b[38;5;241m=\u001b[39m feature_extractor(\u001b[38;5;28mlist\u001b[39m(batch), return_tensors\u001b[38;5;241m=\u001b[39m\u001b[38;5;124m'\u001b[39m\u001b[38;5;124mnp\u001b[39m\u001b[38;5;124m'\u001b[39m)\n\u001b[1;32m---> 17\u001b[0m inputs1D \u001b[38;5;241m=\u001b[39m \u001b[43minputs\u001b[49m\u001b[38;5;241;43m.\u001b[39;49m\u001b[43mflatten\u001b[49m() \n\u001b[0;32m     18\u001b[0m \u001b[38;5;28mprint\u001b[39m(inputs\u001b[38;5;241m.\u001b[39mshape)\n\u001b[0;32m     19\u001b[0m df\u001b[38;5;241m.\u001b[39mat[r, \u001b[38;5;124m'\u001b[39m\u001b[38;5;124mvid_init_frame\u001b[39m\u001b[38;5;124m'\u001b[39m] \u001b[38;5;241m=\u001b[39m clip\u001b[38;5;241m.\u001b[39msplit(\u001b[38;5;124m'\u001b[39m\u001b[38;5;124m.\u001b[39m\u001b[38;5;124m'\u001b[39m)[\u001b[38;5;241m0\u001b[39m] \u001b[38;5;241m+\u001b[39m \u001b[38;5;124m'\u001b[39m\u001b[38;5;124m_\u001b[39m\u001b[38;5;124m'\u001b[39m \u001b[38;5;241m+\u001b[39m \u001b[38;5;28mstr\u001b[39m(ini\u001b[38;5;241m*\u001b[39m\u001b[38;5;241m30\u001b[39m)\n",
      "File \u001b[1;32m~\\anaconda3\\lib\\site-packages\\transformers\\feature_extraction_utils.py:89\u001b[0m, in \u001b[0;36mBatchFeature.__getattr__\u001b[1;34m(self, item)\u001b[0m\n\u001b[0;32m     87\u001b[0m     \u001b[38;5;28;01mreturn\u001b[39;00m \u001b[38;5;28mself\u001b[39m\u001b[38;5;241m.\u001b[39mdata[item]\n\u001b[0;32m     88\u001b[0m \u001b[38;5;28;01mexcept\u001b[39;00m \u001b[38;5;167;01mKeyError\u001b[39;00m:\n\u001b[1;32m---> 89\u001b[0m     \u001b[38;5;28;01mraise\u001b[39;00m \u001b[38;5;167;01mAttributeError\u001b[39;00m\n",
      "\u001b[1;31mAttributeError\u001b[0m: "
     ]
    }
   ],
   "source": [
    "i = 0\n",
    "r = 0\n",
    "\n",
    "for clip in clip_list:\n",
    "    \n",
    "    with open('D:\\BundesligaKaggle\\DflBundesligaDataShootout\\clips/' + clip_list[0], 'rb') as f:\n",
    "        vr = VideoReader(f, num_threads=2, ctx=cpu(0))\n",
    "        \n",
    "        for ini in range(750//30):\n",
    "            if ini < 24:\n",
    "                indix = sample_frame_indices(16,ini*30,2,750)\n",
    "            else:\n",
    "                indix = sample_frame_indices(16,ini*30-1,2,750)\n",
    "            print(indix)\n",
    "            batch = vr.get_batch(indix).asnumpy()\n",
    "            inputs = feature_extractor(list(batch), return_tensors='np')\n",
    "            inputs1D = inputs.flatten() \n",
    "            print(inputs.shape)\n",
    "            df.at[r, 'vid_init_frame'] = clip.split('.')[0] + '_' + str(ini*30)\n",
    "            df.at[r, 'clips'] = inputs1D\n",
    "            r += 1\n",
    "    \n",
    "    if i <= 0:\n",
    "        clip_dataset = Dataset.from_pandas(df)\n",
    "        clip_dataset.save_to_disk(\"D:\\BundesligaKaggle\\DflBundesligaDataShootout\\clip_mate\")\n",
    "        print(r)\n",
    "    else:\n",
    "        break\n",
    "    i += 1"
   ]
  },
  {
   "cell_type": "code",
   "execution_count": null,
   "id": "81b77622",
   "metadata": {},
   "outputs": [],
   "source": [
    "reloaded_dataset = load_from_disk(\"clip_mate\")"
   ]
  },
  {
   "cell_type": "code",
   "execution_count": null,
   "id": "c39cca9b",
   "metadata": {},
   "outputs": [],
   "source": [
    "len(reloaded_dataset)"
   ]
  },
  {
   "cell_type": "code",
   "execution_count": null,
   "id": "4ff03bef",
   "metadata": {},
   "outputs": [],
   "source": []
  }
 ],
 "metadata": {
  "kernelspec": {
   "display_name": "Python 3 (ipykernel)",
   "language": "python",
   "name": "python3"
  },
  "language_info": {
   "codemirror_mode": {
    "name": "ipython",
    "version": 3
   },
   "file_extension": ".py",
   "mimetype": "text/x-python",
   "name": "python",
   "nbconvert_exporter": "python",
   "pygments_lexer": "ipython3",
   "version": "3.9.12"
  }
 },
 "nbformat": 4,
 "nbformat_minor": 5
}
